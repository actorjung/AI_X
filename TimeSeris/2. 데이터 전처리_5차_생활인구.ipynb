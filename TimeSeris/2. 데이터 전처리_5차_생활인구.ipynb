{
 "cells": [
  {
   "cell_type": "markdown",
   "id": "55add5c1",
   "metadata": {
    "id": "55add5c1"
   },
   "source": [
    "# 안녕하세요^^ \n",
    "# AIVLE 미니 프로젝트에 오신 여러분을 환영합니다.\n",
    "* 본 과정에서는 실제 사례와 데이터를 기반으로 문제를 해결하는 전체 과정을 자기 주도형 실습으로 진행해볼 예정입니다.\n",
    "* 앞선 교육과정을 정리하는 마음과 지금까지 배운 내용을 바탕으로 문제 해결을 해볼게요!\n",
    "* 미니 프로젝트를 통한 문제 해결 과정 'A에서 Z까지', 지금부터 시작합니다!"
   ]
  },
  {
   "cell_type": "markdown",
   "id": "84008ade",
   "metadata": {
    "id": "84008ade"
   },
   "source": [
    "---"
   ]
  },
  {
   "cell_type": "markdown",
   "id": "bright-evolution",
   "metadata": {
    "id": "bright-evolution"
   },
   "source": [
    "# (실습준비) 데이터 불러오기부터\n",
    "\n",
    "* 17년도부터 21년도 까지의 데이터를 train set, 22년도의 6개월치 데이터를 test set 으로 설정합니다."
   ]
  },
  {
   "cell_type": "code",
   "execution_count": 3,
   "id": "xkGZVL9W_LTv",
   "metadata": {
    "colab": {
     "base_uri": "https://localhost:8080/"
    },
    "executionInfo": {
     "elapsed": 17869,
     "status": "ok",
     "timestamp": 1668745593206,
     "user": {
      "displayName": "Hojun Lee",
      "userId": "14713924399124402560"
     },
     "user_tz": -540
    },
    "id": "xkGZVL9W_LTv",
    "outputId": "0869124f-bd40-4f4f-b6bf-94f0f2ce70b6"
   },
   "outputs": [
    {
     "name": "stdout",
     "output_type": "stream",
     "text": [
      "Mounted at /content/drive\n"
     ]
    }
   ],
   "source": [
    "from google.colab import drive\n",
    "drive.mount('/content/drive')"
   ]
  },
  {
   "cell_type": "code",
   "execution_count": 4,
   "id": "innocent-token",
   "metadata": {
    "executionInfo": {
     "elapsed": 1733,
     "status": "ok",
     "timestamp": 1668745608423,
     "user": {
      "displayName": "Hojun Lee",
      "userId": "14713924399124402560"
     },
     "user_tz": -540
    },
    "id": "innocent-token"
   },
   "outputs": [],
   "source": [
    "import pandas as pd\n",
    "\n",
    "# 학습 데이터 로딩\n",
    "df_total = pd.read_csv('/content/drive/MyDrive/SMU AI+X/221118/df_total.csv')\n",
    "df_test = pd.read_csv('/content/drive/MyDrive/SMU AI+X/221118/df_test.csv')\n"
   ]
  },
  {
   "cell_type": "markdown",
   "id": "polished-myrtle",
   "metadata": {
    "id": "polished-myrtle"
   },
   "source": [
    "---"
   ]
  },
  {
   "cell_type": "markdown",
   "id": "palestinian-catalog",
   "metadata": {
    "id": "palestinian-catalog"
   },
   "source": [
    "# 1. 데이터 전처리"
   ]
  },
  {
   "cell_type": "markdown",
   "id": "89892756",
   "metadata": {
    "id": "89892756"
   },
   "source": [
    "#### [실습문제1] 열 추가 \n",
    "* 기존 '기준일ID'열에서 날짜 데이터를 추출하여 새로운 열로 추가 합니다.\n",
    "    - pd.to_datetime() 함수를 사용해 '기준일ID'열을 datetime 형식으로 변경하겠습니다.\n",
    "    - year, month, day 열로 기존 데이터 프레임에 연월일 정보를 저장합니다.\n",
    "    - 데이터 프레임 열에 대해 날짜 정보를 얻을 때에는 **dt.year**, **dt.month**, **dt.day** 속성을 사용합니다. "
   ]
  },
  {
   "cell_type": "code",
   "execution_count": 5,
   "id": "3553fb5f",
   "metadata": {
    "executionInfo": {
     "elapsed": 273,
     "status": "ok",
     "timestamp": 1668745612252,
     "user": {
      "displayName": "Hojun Lee",
      "userId": "14713924399124402560"
     },
     "user_tz": -540
    },
    "id": "3553fb5f"
   },
   "outputs": [],
   "source": [
    "# 아래에 실습코드를 작성하고 결과를 확인합니다.\n",
    "\n",
    "df_total['기준일ID'] = pd.to_datetime(df_total['기준일ID'])\n",
    "\n",
    "df_total['year'] = df_total['기준일ID'].dt.year\n",
    "df_total['month'] = df_total['기준일ID'].dt.month\n",
    "df_total['day'] = df_total['기준일ID'].dt.day\n"
   ]
  },
  {
   "cell_type": "code",
   "execution_count": 6,
   "id": "85808d0d",
   "metadata": {
    "executionInfo": {
     "elapsed": 391,
     "status": "ok",
     "timestamp": 1668745614484,
     "user": {
      "displayName": "Hojun Lee",
      "userId": "14713924399124402560"
     },
     "user_tz": -540
    },
    "id": "85808d0d"
   },
   "outputs": [],
   "source": [
    "# 아래에 실습코드를 작성하고 결과를 확인합니다.\n",
    "\n",
    "df_test['기준일ID'] = pd.to_datetime(df_test['기준일ID'])\n",
    "\n",
    "df_test['year'] = df_test['기준일ID'].dt.year\n",
    "df_test['month'] = df_test['기준일ID'].dt.month\n",
    "df_test['day'] = df_test['기준일ID'].dt.day"
   ]
  },
  {
   "cell_type": "markdown",
   "id": "fefaf235",
   "metadata": {
    "id": "fefaf235"
   },
   "source": [
    "#### [실습문제2] 불필요한 열 제거 및 열 이름 변경\n",
    "* df_total과 df_test에서 '총생활인구수'외에 불필요한 열을 제거 하도록 하겠습니다.\n",
    "* 시간 데이터를 남기고, '시간대구분' column 을 'hour'로 rename 하도록 하겠습니다. "
   ]
  },
  {
   "cell_type": "code",
   "execution_count": 7,
   "id": "2f024b9b",
   "metadata": {
    "colab": {
     "base_uri": "https://localhost:8080/"
    },
    "executionInfo": {
     "elapsed": 289,
     "status": "ok",
     "timestamp": 1668745616815,
     "user": {
      "displayName": "Hojun Lee",
      "userId": "14713924399124402560"
     },
     "user_tz": -540
    },
    "id": "2f024b9b",
    "outputId": "644daf8f-a9c0-4f42-a743-c141bdb61674"
   },
   "outputs": [
    {
     "name": "stderr",
     "output_type": "stream",
     "text": [
      "/usr/local/lib/python3.7/dist-packages/pandas/core/frame.py:5047: SettingWithCopyWarning: \n",
      "A value is trying to be set on a copy of a slice from a DataFrame\n",
      "\n",
      "See the caveats in the documentation: https://pandas.pydata.org/pandas-docs/stable/user_guide/indexing.html#returning-a-view-versus-a-copy\n",
      "  errors=errors,\n"
     ]
    }
   ],
   "source": [
    "# 아래에 실습코드를 작성하고 결과를 확인합니다.\n",
    "\n",
    "df_total = df_total[['year','month','day','시간대구분','총생활인구수']]\n",
    "df_total.rename(columns={'시간대구분':'hour'},inplace=True)"
   ]
  },
  {
   "cell_type": "code",
   "execution_count": 8,
   "id": "0bd4ebf8",
   "metadata": {
    "executionInfo": {
     "elapsed": 404,
     "status": "ok",
     "timestamp": 1668745638242,
     "user": {
      "displayName": "Hojun Lee",
      "userId": "14713924399124402560"
     },
     "user_tz": -540
    },
    "id": "0bd4ebf8"
   },
   "outputs": [],
   "source": [
    "# 아래에 실습코드를 작성하고 결과를 확인합니다.\n",
    "\n",
    "df_test = df_test[['year','month','day','시간대구분','총생활인구수']]\n",
    "df_test.rename(columns={'시간대구분':'hour'},inplace=True)"
   ]
  },
  {
   "cell_type": "markdown",
   "id": "Xfw0uvC795To",
   "metadata": {
    "id": "Xfw0uvC795To"
   },
   "source": [
    "#### [실습문제3] 시프트 & 롤링\n",
    "* shift()를 활용하여 이동할 행 수를 지정합니다.\n",
    "* rolling()을 활용하여 추가할 이동평균 수를 지정합니다."
   ]
  },
  {
   "cell_type": "code",
   "execution_count": 9,
   "id": "60c1c633",
   "metadata": {
    "executionInfo": {
     "elapsed": 430,
     "status": "ok",
     "timestamp": 1668745640677,
     "user": {
      "displayName": "Hojun Lee",
      "userId": "14713924399124402560"
     },
     "user_tz": -540
    },
    "id": "60c1c633"
   },
   "outputs": [],
   "source": [
    "# 아래에 실습코드를 작성하고 결과를 확인합니다.\n",
    "\n",
    "df_total['1d'] = df_total['총생활인구수'].shift(24)\n",
    "df_total['7d'] = df_total['총생활인구수'].shift(24*7)"
   ]
  },
  {
   "cell_type": "code",
   "execution_count": 10,
   "id": "6b4d6ebd",
   "metadata": {
    "executionInfo": {
     "elapsed": 3,
     "status": "ok",
     "timestamp": 1668745641866,
     "user": {
      "displayName": "Hojun Lee",
      "userId": "14713924399124402560"
     },
     "user_tz": -540
    },
    "id": "6b4d6ebd"
   },
   "outputs": [],
   "source": [
    "# 아래에 실습코드를 작성하고 결과를 확인합니다.\n",
    "\n",
    "df_test['1d'] = df_test['총생활인구수'].shift(24)\n",
    "df_test['7d'] = df_test['총생활인구수'].shift(24*7)"
   ]
  },
  {
   "cell_type": "markdown",
   "id": "combined-python",
   "metadata": {
    "id": "combined-python"
   },
   "source": [
    "#### [실습문제4] 결측치 처리 및 불필요한 열 제거\n",
    "* 롤링 & 시프트 과정에서 발생한 결측치를 처리하도록 하겠습니다.\n",
    "* 불필요한 열을 추가로 제거 하겠습니다.(시간 관련 행들)"
   ]
  },
  {
   "cell_type": "code",
   "execution_count": 11,
   "id": "de88e130",
   "metadata": {
    "executionInfo": {
     "elapsed": 561,
     "status": "ok",
     "timestamp": 1668745643680,
     "user": {
      "displayName": "Hojun Lee",
      "userId": "14713924399124402560"
     },
     "user_tz": -540
    },
    "id": "de88e130"
   },
   "outputs": [],
   "source": [
    "# 아래에 실습코드를 작성하고 결과를 확인합니다.\n",
    "\n",
    "df_total = df_total.drop(['year','month','day','hour'], axis=1)\n",
    "df_total = df_total.dropna()"
   ]
  },
  {
   "cell_type": "code",
   "execution_count": 12,
   "id": "driven-optimization",
   "metadata": {
    "executionInfo": {
     "elapsed": 390,
     "status": "ok",
     "timestamp": 1668745644936,
     "user": {
      "displayName": "Hojun Lee",
      "userId": "14713924399124402560"
     },
     "user_tz": -540
    },
    "id": "driven-optimization"
   },
   "outputs": [],
   "source": [
    "# 아래에 실습코드를 작성하고 결과를 확인합니다.\n",
    "\n",
    "df_test = df_test.drop(['year','month','day','hour'], axis=1)\n",
    "df_test = df_test.dropna()"
   ]
  },
  {
   "cell_type": "markdown",
   "id": "dependent-motion",
   "metadata": {
    "id": "dependent-motion",
    "tags": []
   },
   "source": [
    "#### [실습문제5] train, test 데이터 나누기\n",
    "* df_total과 df_test를 각각 train_x, train_y, test_x, test_y 로 나누어 주세요.\n",
    "* 인덱스를 리셋 해주세요."
   ]
  },
  {
   "cell_type": "code",
   "execution_count": 13,
   "id": "92652b6b",
   "metadata": {
    "executionInfo": {
     "elapsed": 2,
     "status": "ok",
     "timestamp": 1668745646630,
     "user": {
      "displayName": "Hojun Lee",
      "userId": "14713924399124402560"
     },
     "user_tz": -540
    },
    "id": "92652b6b"
   },
   "outputs": [],
   "source": [
    "# 아래에 실습코드를 작성하고 결과를 확인합니다.\n",
    "\n",
    "train_x = df_total.iloc[ :,1:]\n",
    "train_y = df_total.iloc[ :,:1]\n",
    "\n",
    "test_x = df_test.iloc[ :,1:]\n",
    "test_y = df_test.iloc[ :,:1]"
   ]
  },
  {
   "cell_type": "code",
   "execution_count": 14,
   "id": "b49c4fb9",
   "metadata": {
    "executionInfo": {
     "elapsed": 3,
     "status": "ok",
     "timestamp": 1668745648173,
     "user": {
      "displayName": "Hojun Lee",
      "userId": "14713924399124402560"
     },
     "user_tz": -540
    },
    "id": "b49c4fb9"
   },
   "outputs": [],
   "source": [
    "# 아래에 실습코드를 작성하고 결과를 확인합니다.\n",
    "\n",
    "train_x = train_x.reset_index(drop=True)\n",
    "train_y = train_y.reset_index(drop=True)\n",
    "test_x = test_x.reset_index(drop=True)\n",
    "test_y = test_y.reset_index(drop=True)"
   ]
  },
  {
   "cell_type": "markdown",
   "id": "dramatic-meditation",
   "metadata": {
    "id": "dramatic-meditation"
   },
   "source": [
    "---"
   ]
  },
  {
   "cell_type": "markdown",
   "id": "bridal-closer",
   "metadata": {
    "id": "bridal-closer"
   },
   "source": [
    "## 다음 단계를 위해서 데이터를 저장하겠습니다."
   ]
  },
  {
   "cell_type": "code",
   "execution_count": 17,
   "id": "designed-cartridge",
   "metadata": {
    "executionInfo": {
     "elapsed": 306,
     "status": "ok",
     "timestamp": 1668745782443,
     "user": {
      "displayName": "Hojun Lee",
      "userId": "14713924399124402560"
     },
     "user_tz": -540
    },
    "id": "designed-cartridge"
   },
   "outputs": [],
   "source": [
    "# CSV로 저장\n",
    "train_x.to_csv('/content/drive/MyDrive/SMU AI+X/221118/train_x.csv', index = False)\n",
    "train_y.to_csv('/content/drive/MyDrive/SMU AI+X/221118/train_y.csv', index = False)\n",
    "test_x.to_csv('/content/drive/MyDrive/SMU AI+X/221118/test_x.csv', index = False)\n",
    "test_y.to_csv('/content/drive/MyDrive/SMU AI+X/221118/test_y.csv', index = False)"
   ]
  },
  {
   "cell_type": "markdown",
   "id": "b70ee587",
   "metadata": {
    "id": "b70ee587"
   },
   "source": [
    "---"
   ]
  }
 ],
 "metadata": {
  "colab": {
   "provenance": []
  },
  "kernelspec": {
   "display_name": "Python 3 (ipykernel)",
   "language": "python",
   "name": "python3"
  },
  "language_info": {
   "codemirror_mode": {
    "name": "ipython",
    "version": 3
   },
   "file_extension": ".py",
   "mimetype": "text/x-python",
   "name": "python",
   "nbconvert_exporter": "python",
   "pygments_lexer": "ipython3",
   "version": "3.9.13"
  },
  "vscode": {
   "interpreter": {
    "hash": "f08154012ddadd8e950e6e9e035c7a7b32c136e7647e9b7c77e02eb723a8bedb"
   }
  }
 },
 "nbformat": 4,
 "nbformat_minor": 5
}
